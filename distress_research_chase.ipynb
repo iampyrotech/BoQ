{
 "cells": [
  {
   "cell_type": "code",
   "execution_count": 1,
   "metadata": {},
   "outputs": [
    {
     "name": "stderr",
     "output_type": "stream",
     "text": [
      "/home/nchasem/projects/sf-quant-labs/.venv/lib64/python3.11/site-packages/tqdm/auto.py:21: TqdmWarning: IProgress not found. Please update jupyter and ipywidgets. See https://ipywidgets.readthedocs.io/en/stable/user_install.html\n",
      "  from .autonotebook import tqdm as notebook_tqdm\n",
      "2025-10-01 15:33:38,640\tINFO util.py:154 -- Missing packages: ['ipywidgets']. Run `pip install -U ipywidgets`, then restart the notebook server for rich notebook output.\n"
     ]
    }
   ],
   "source": [
    "# Imports\n",
    "import sf_quant.data as sfd\n",
    "import sf_quant.optimizer as sfo\n",
    "import sf_quant.backtester as sfb\n",
    "import sf_quant.performance as sfp\n",
    "import polars as pl\n",
    "import datetime as dt\n",
    "import matplotlib.pyplot as plt\n",
    "import seaborn as sns\n",
    "import tqdm\n",
    "import numpy as np"
   ]
  },
  {
   "cell_type": "code",
   "execution_count": 2,
   "metadata": {},
   "outputs": [
    {
     "name": "stdout",
     "output_type": "stream",
     "text": [
      "\n",
      "[CRSP_PRICING] columns: ['PERMNO', 'date', 'SHRCD', 'EXCHCD', 'CUSIP', 'BIDLO', 'ASKHI', 'PRC', 'VOL', 'RET', 'SHROUT', 'RETX']\n",
      "\n",
      "[CRSP_DELIST] columns: ['PERMNO', 'date', 'NCUSIP', 'TICKER', 'CUSIP', 'DLAMT', 'DLPDT', 'DLSTCD', 'DLRETX', 'DLPRC', 'DLRET']\n",
      "\n",
      "[CRSP_DAILY] columns: ['PERMNO', 'date', 'SHRCD', 'EXCHCD', 'CUSIP', 'BIDLO', 'ASKHI', 'PRC', 'VOL', 'RET', 'SHROUT', 'RETX', 'DLRET', 'RET_F', 'DLRET_F', 'RET_COMB']\n",
      "\n",
      "[CRSP_MONTHLY] columns: ['PERMNO', 'date', 'RET_M', 'PRC_ME', 'SHROUT_ME', 'ME']\n",
      "\n",
      "[SP500_RAW] columns: ['caldt', 'totval', 'totcnt', 'usdval', 'spindx', 'sprtrn', 'date']\n",
      "\n",
      "[COMPUSTAT_RAW] columns: ['costat', 'curcdq', 'datafmt', 'indfmt', 'consol', 'gvkey', 'datadate', 'cusip', 'atq', 'cheq', 'ltq', 'niq', 'pstkrq', 'seqq', 'txditcq']\n",
      "\n",
      "[CCM_LINK] columns: ['PERMNO', 'gvkey', 'LINKDT', 'LINKENDDT', 'LINKTYPE', 'tic', 'cusip']\n"
     ]
    }
   ],
   "source": [
    "import polars as pl\n",
    "\n",
    "# =========================================================\n",
    "# 1) CRSP Pricing (daily)\n",
    "# =========================================================\n",
    "crsp_pricing = pl.read_csv(\n",
    "    r\"/home/nchasem/projects/sf-quant-labs/labs/crsp_pricing.csv\",\n",
    "    infer_schema_length=10000,\n",
    "    schema_overrides={\"CUSIP\": pl.Utf8, \"NCUSIP\": pl.Utf8}\n",
    ").with_columns([\n",
    "    pl.col(\"date\").str.strptime(pl.Date, format=\"%Y-%m-%d\", strict=False),\n",
    "    pl.col(\"PRC\").abs().alias(\"PRC\")\n",
    "])\n",
    "print(\"\\n[CRSP_PRICING] columns:\", crsp_pricing.columns)\n",
    "\n",
    "# =========================================================\n",
    "# 2) CRSP Delistings (daily)\n",
    "# =========================================================\n",
    "crsp_delisting = pl.read_csv(\n",
    "    r\"/home/nchasem/projects/sf-quant-labs/labs/crsp_delisting.csv\",\n",
    "    infer_schema_length=10000,\n",
    "    schema_overrides={\"CUSIP\": pl.Utf8, \"NCUSIP\": pl.Utf8}\n",
    ").with_columns(\n",
    "    pl.col(\"date\").str.strptime(pl.Date, format=\"%Y-%m-%d\", strict=False)\n",
    ")\n",
    "print(\"\\n[CRSP_DELIST] columns:\", crsp_delisting.columns)\n",
    "\n",
    "# =========================================================\n",
    "# 3) Merge CRSP Pricing + Delistings (daily, PERMNO+date)\n",
    "#    (avoid CUSIP in the key)\n",
    "# =========================================================\n",
    "crsp_daily = crsp_pricing.join(\n",
    "    crsp_delisting.select([\"PERMNO\",\"date\",\"DLRET\"]),\n",
    "    on=[\"PERMNO\",\"date\"], how=\"left\"\n",
    ")\n",
    "\n",
    "# Cast to float in a separate step (new columns)\n",
    "crsp_daily = crsp_daily.with_columns([\n",
    "    pl.col(\"RET\").cast(pl.Float64, strict=False).alias(\"RET_F\"),\n",
    "    pl.col(\"DLRET\").cast(pl.Float64, strict=False).alias(\"DLRET_F\"),\n",
    "])\n",
    "\n",
    "# Combined return (daily)\n",
    "crsp_daily = crsp_daily.with_columns(\n",
    "    ((1 + pl.col(\"RET_F\").fill_null(0.0)) * (1 + pl.col(\"DLRET_F\").fill_null(0.0)) - 1.0)\n",
    "    .alias(\"RET_COMB\")\n",
    ")\n",
    "print(\"\\n[CRSP_DAILY] columns:\", crsp_daily.columns)\n",
    "\n",
    "# =========================================================\n",
    "# 4) Roll CRSP Daily -> Monthly (month-end key)\n",
    "#    (compounded monthly return; month-end PRC/SHROUT; ME)\n",
    "# =========================================================\n",
    "crsp_m = (\n",
    "    crsp_daily\n",
    "    .with_columns(pl.col(\"date\").dt.month_end().alias(\"mend\"))\n",
    "    .group_by([\"PERMNO\",\"mend\"])\n",
    "    .agg([\n",
    "        (pl.col(\"RET_COMB\").fill_null(0.0).add(1).product() - 1).alias(\"RET_M\"),\n",
    "        pl.col(\"PRC\").last().alias(\"PRC_ME\"),\n",
    "        pl.col(\"SHROUT\").last().alias(\"SHROUT_ME\"),\n",
    "    ])\n",
    "    .with_columns((pl.col(\"PRC_ME\") * pl.col(\"SHROUT_ME\") * 1000.0).alias(\"ME\"))\n",
    "    .rename({\"mend\": \"date\"})\n",
    "    .sort([\"PERMNO\",\"date\"])\n",
    ")\n",
    "print(\"\\n[CRSP_MONTHLY] columns:\", crsp_m.columns)\n",
    "\n",
    "# =========================================================\n",
    "# 5) S&P / Market Series (align to month-end; no join yet)\n",
    "# =========================================================\n",
    "sp500 = pl.read_csv(\n",
    "    r\"/home/nchasem/projects/sf-quant-labs/labs/sp500.csv\",\n",
    "    infer_schema_length=10000\n",
    ")\n",
    "\n",
    "# Parse date\n",
    "sp500 = sp500.with_columns(\n",
    "    pl.col(\"caldt\").str.strptime(pl.Date, format=\"%Y-%m-%d\", strict=False)\n",
    ")\n",
    "\n",
    "# Month-end key\n",
    "sp500 = sp500.with_columns(\n",
    "    pl.col(\"caldt\").dt.month_end().alias(\"date\")\n",
    ")\n",
    "\n",
    "print(\"\\n[SP500_RAW] columns:\", sp500.columns)\n",
    "\n",
    "# =========================================================\n",
    "# 6) Compustat (raw; no attach yet)\n",
    "# =========================================================\n",
    "compustat = pl.read_csv(\n",
    "    r'/home/nchasem/projects/sf-quant-labs/labs/compustat_updated.csv',\n",
    "    infer_schema_length=10000,\n",
    "    schema_overrides={\"GVKEY\": pl.Utf8, \"CUSIP\": pl.Utf8, \"TIC\": pl.Utf8, \"CONM\": pl.Utf8}\n",
    ").with_columns(\n",
    "    pl.col(\"datadate\").str.strptime(pl.Date, format=\"%Y-%m-%d\", strict=False)\n",
    ")\n",
    "print(\"\\n[COMPUSTAT_RAW] columns:\", compustat.columns)\n",
    "\n",
    "# =========================================================\n",
    "# 7) CRSP–Compustat Link (CCM) — cleaned but unused yet\n",
    "#    [\"gvkey\",\"LINKTYPE\",\"PERMNO\",\"LPERMCO\",\"LINKDT\",\"LINKENDDT\",\"tic\",\"cusip\"])\n",
    "# =========================================================\n",
    "link = pl.read_csv(\n",
    "    r'/home/nchasem/projects/sf-quant-labs/labs/link.csv',\n",
    "    infer_schema_length=10000\n",
    ").rename({'LPERMNO': 'PERMNO', 'GVKEY': 'gvkey'}).with_columns([\n",
    "    pl.col(\"LINKDT\").str.strptime(pl.Date, strict=False),\n",
    "    pl.col(\"LINKENDDT\").str.strptime(pl.Date, strict=False),\n",
    "]).with_columns(\n",
    "    pl.when(pl.col(\"LINKENDDT\").is_null())\n",
    "      .then(pl.date(2099,12,31))\n",
    "      .otherwise(pl.col(\"LINKENDDT\"))\n",
    "      .alias(\"LINKENDDT\")\n",
    ").filter(\n",
    "    pl.col(\"LINKTYPE\").is_in([\"LU\",\"LC\"])               # <-- no LINKPRIM in your file\n",
    ").select([\n",
    "    \"PERMNO\",\"gvkey\",\"LINKDT\",\"LINKENDDT\",\"LINKTYPE\",\"tic\",\"cusip\"\n",
    "])\n",
    "\n",
    "print(\"\\n[CCM_LINK] columns:\", link.columns)"
   ]
  },
  {
   "cell_type": "code",
   "execution_count": 3,
   "metadata": {},
   "outputs": [
    {
     "name": "stdout",
     "output_type": "stream",
     "text": [
      "\n",
      "[CRSP_MONTHLY+MKT] columns: ['PERMNO', 'date', 'RET_M', 'PRC_ME', 'SHROUT_ME', 'ME', 'MKT_M']\n",
      "\n",
      "[PANEL_KEYS] columns: ['PERMNO', 'date', 'gvkey', 'RET_M', 'PRC_ME', 'SHROUT_ME', 'ME', 'MKT_M']\n"
     ]
    }
   ],
   "source": [
    "# =========================================================\n",
    "# 8) Add Market Return to CRSP Monthly (no factors yet)\n",
    "#     - Use sprtrn from SP500 as monthly market return\n",
    "# =========================================================\n",
    "crsp_m = crsp_m.join(\n",
    "    sp500.select([\"date\", \"sprtrn\"]).rename({\"sprtrn\": \"MKT_M\"}),\n",
    "    on=\"date\", how=\"left\"\n",
    ")\n",
    "print(\"\\n[CRSP_MONTHLY+MKT] columns:\", crsp_m.columns)\n",
    "\n",
    "# =========================================================\n",
    "# 9) Build PERMNO×date → GVKEY mapping via CCM link window\n",
    "#     - This gives us the keys to attach accounting later\n",
    "# =========================================================\n",
    "panel_keys = (\n",
    "    crsp_m.join(link.select([\"PERMNO\",\"gvkey\",\"LINKDT\",\"LINKENDDT\"]),\n",
    "                on=\"PERMNO\", how=\"left\")\n",
    "          .filter(\n",
    "              (pl.col(\"date\") >= pl.col(\"LINKDT\")) &\n",
    "              (pl.col(\"date\") <= pl.col(\"LINKENDDT\"))\n",
    "          )\n",
    "          .select([\n",
    "              \"PERMNO\",\"date\",\"gvkey\",\n",
    "              \"RET_M\",\"PRC_ME\",\"SHROUT_ME\",\"ME\",\"MKT_M\"\n",
    "          ])\n",
    "          .sort([\"PERMNO\",\"date\"])\n",
    ")\n",
    "print(\"\\n[PANEL_KEYS] columns:\", panel_keys.columns)"
   ]
  },
  {
   "cell_type": "code",
   "execution_count": 4,
   "metadata": {},
   "outputs": [
    {
     "name": "stdout",
     "output_type": "stream",
     "text": [
      "\n",
      "[COMPUSTAT_PREP] columns: ['gvkey', 'datadate', 'cusip', 'atq', 'cheq', 'ltq', 'niq', 'pstkrq', 'seqq', 'txditcq', 'avail_date']\n"
     ]
    }
   ],
   "source": [
    "# =========================================================\n",
    "# 10) COMPUSTAT — add availability date (no attach yet)\n",
    "#      using the columns you actually have:\n",
    "#      ['gvkey','datadate','cusip','atq','cheq','ltq','niq','pstkrq','seqq','txditcq']\n",
    "# =========================================================\n",
    "comp_prep = (\n",
    "    compustat\n",
    "    .select([\n",
    "        \"gvkey\",\"datadate\",\"cusip\",\n",
    "        \"atq\",\"cheq\",\"ltq\",\"niq\",\"pstkrq\",\"seqq\",\"txditcq\"\n",
    "    ])\n",
    "    .with_columns(\n",
    "        pl.col(\"datadate\").dt.offset_by(\"6mo\").alias(\"avail_date\")\n",
    "    )\n",
    ")\n",
    "\n",
    "print(\"\\n[COMPUSTAT_PREP] columns:\", comp_prep.columns)"
   ]
  },
  {
   "cell_type": "code",
   "execution_count": 5,
   "metadata": {},
   "outputs": [
    {
     "name": "stdout",
     "output_type": "stream",
     "text": [
      "\n",
      "[PANEL] columns: ['PERMNO', 'date', 'gvkey', 'RET_M', 'PRC_ME', 'SHROUT_ME', 'ME', 'MKT_M', 'datadate', 'cusip', 'atq', 'cheq', 'ltq', 'niq', 'pstkrq', 'seqq', 'txditcq']\n"
     ]
    }
   ],
   "source": [
    "# =========================================================\n",
    "# 11) Attach accounting to monthly keys (6-mo availability)\n",
    "#     (Lazy + Streaming to avoid kernel crash)\n",
    "# =========================================================\n",
    "panel = (\n",
    "    panel_keys.lazy()\n",
    "    .join(comp_prep.lazy(), on=\"gvkey\", how=\"left\")\n",
    "    # only keep accounting rows available as of this month-end\n",
    "    .filter(pl.col(\"avail_date\") <= pl.col(\"date\"))\n",
    "    # mark the latest datadate per (PERMNO,date)\n",
    "    .with_columns(\n",
    "        pl.col(\"datadate\").max().over([\"PERMNO\",\"date\"]).alias(\"_max_dd\")\n",
    "    )\n",
    "    .filter(pl.col(\"datadate\") == pl.col(\"_max_dd\"))\n",
    "    .drop(\"_max_dd\")\n",
    "    # collapse duplicates (just in case)\n",
    "    .group_by([\"PERMNO\",\"date\"])\n",
    "    .agg([\n",
    "        pl.col(\"gvkey\").first(),\n",
    "        pl.col(\"RET_M\").first(),\n",
    "        pl.col(\"PRC_ME\").first(),\n",
    "        pl.col(\"SHROUT_ME\").first(),\n",
    "        pl.col(\"ME\").first(),\n",
    "        pl.col(\"MKT_M\").first(),\n",
    "        pl.col(\"datadate\").first(),\n",
    "        pl.col(\"cusip\").first(),\n",
    "        pl.col(\"atq\").first(),\n",
    "        pl.col(\"cheq\").first(),\n",
    "        pl.col(\"ltq\").first(),\n",
    "        pl.col(\"niq\").first(),\n",
    "        pl.col(\"pstkrq\").first(),\n",
    "        pl.col(\"seqq\").first(),\n",
    "        pl.col(\"txditcq\").first(),\n",
    "    ])\n",
    "    .sort([\"PERMNO\",\"date\"])\n",
    "    .collect(engine=\"streaming\")\n",
    ")\n",
    "\n",
    "print(\"\\n[PANEL] columns:\", panel.columns)"
   ]
  },
  {
   "cell_type": "markdown",
   "metadata": {},
   "source": [
    "## 8 CHS PREDICTORS"
   ]
  },
  {
   "cell_type": "code",
   "execution_count": 6,
   "metadata": {},
   "outputs": [],
   "source": [
    "# =========================================================\n",
    "# 12) Structural bases (units fix inside formulas)\n",
    "#      - MTA  = ME + LTQ_usd\n",
    "#      - BE_raw = (SEQQ_usd + TXDITCQ_usd - PSTKRQ_usd)\n",
    "# =========================================================\n",
    "panel = panel.with_columns([\n",
    "    (pl.col(\"ME\") + pl.col(\"ltq\") * 1_000_000).alias(\"MTA\"),\n",
    "    (pl.col(\"seqq\") * 1_000_000\n",
    "     + pl.col(\"txditcq\").fill_null(0.0) * 1_000_000\n",
    "     - pl.col(\"pstkrq\").fill_null(0.0) * 1_000_000).alias(\"BE_raw\"),\n",
    "])"
   ]
  },
  {
   "cell_type": "code",
   "execution_count": 7,
   "metadata": {},
   "outputs": [],
   "source": [
    "# ---- 13a) Make BE first (guarding <= 0) ----\n",
    "panel = panel.with_columns(\n",
    "    pl.when(pl.col(\"BE_raw\") <= 0).then(pl.lit(1e-6)).otherwise(pl.col(\"BE_raw\")).alias(\"BE\")\n",
    ")\n",
    "\n",
    "# ---- 13b) Now the simple ratios (units-consistent) ----\n",
    "panel = panel.with_columns([\n",
    "    # use dollars in the numerators to match MTA (which is in dollars)\n",
    "    (pl.col(\"ltq\")  * 1_000_000 / pl.col(\"MTA\")).alias(\"TLMTA\"),\n",
    "    (pl.col(\"cheq\") * 1_000_000 / pl.col(\"MTA\")).alias(\"CASHMTA\"),\n",
    "\n",
    "    (pl.col(\"ME\") / pl.col(\"BE\")).alias(\"MB\"),\n",
    "    pl.min_horizontal(pl.col(\"PRC_ME\"), pl.lit(15.0)).log().alias(\"PRICE\"),\n",
    "])"
   ]
  },
  {
   "cell_type": "code",
   "execution_count": 8,
   "metadata": {},
   "outputs": [],
   "source": [
    "# =========================================================\n",
    "# 14) Cross-section + rolling returns\n",
    "#      - RSIZE     = log( ME / sum(ME)_month )\n",
    "#      - EXRET     = RET_M - MKT_M\n",
    "#      - EXRETAVG  = 12-month rolling mean of EXRET (per PERMNO)\n",
    "# =========================================================\n",
    "\n",
    "# sort once for rolling ops\n",
    "panel = panel.sort([\"PERMNO\", \"date\"])\n",
    "\n",
    "# monthly total market cap, then RSIZE\n",
    "panel = (\n",
    "    panel\n",
    "    .join(\n",
    "        panel.group_by(\"date\").agg(pl.col(\"ME\").sum().alias(\"ME_mkt\")),\n",
    "        on=\"date\", how=\"left\"\n",
    "    )\n",
    "    .with_columns(\n",
    "        (pl.col(\"ME\") / pl.col(\"ME_mkt\")).log().alias(\"RSIZE\"),\n",
    "        (pl.col(\"RET_M\") - pl.col(\"MKT_M\")).alias(\"EXRET\"),\n",
    "    )\n",
    "    .with_columns(\n",
    "        pl.col(\"EXRET\").rolling_mean(window_size=12).over(\"PERMNO\").alias(\"EXRETAVG\")\n",
    "    )\n",
    ")"
   ]
  },
  {
   "cell_type": "code",
   "execution_count": 9,
   "metadata": {},
   "outputs": [],
   "source": [
    "# =========================================================\n",
    "# 15) SIGMA (annualized 3-mo daily std) using RET_COMB\n",
    "# =========================================================\n",
    "\n",
    "crsp_sig = (\n",
    "    crsp_daily\n",
    "    .sort([\"PERMNO\",\"date\"])\n",
    "    .with_columns(\n",
    "        pl.col(\"RET_COMB\").rolling_std(window_size=63).over(\"PERMNO\").alias(\"SIGMA_3M\")\n",
    "    )\n",
    "    # annualize the 3-month rolling daily std\n",
    "    .with_columns((pl.col(\"SIGMA_3M\") * (252.0 ** 0.5)).alias(\"SIGMA_3M\"))\n",
    "    .with_columns(pl.col(\"date\").dt.month_end().alias(\"date\"))\n",
    ")\n",
    "\n",
    "# collapse to month-end: last non-null\n",
    "sigma_m = (\n",
    "    crsp_sig\n",
    "    .group_by([\"PERMNO\",\"date\"])\n",
    "    .agg(pl.col(\"SIGMA_3M\").drop_nulls().last().alias(\"SIGMA\"))\n",
    ")\n",
    "\n",
    "# same-month cross-sectional mean imputation (optional but CHS-like)\n",
    "sigma_cs = sigma_m.group_by(\"date\").agg(pl.col(\"SIGMA\").mean().alias(\"SIGMA_CS\"))\n",
    "sigma_m = (\n",
    "    sigma_m.join(sigma_cs, on=\"date\", how=\"left\")\n",
    "           .with_columns(pl.coalesce([pl.col(\"SIGMA\"), pl.col(\"SIGMA_CS\")]).alias(\"SIGMA\"))\n",
    "           .drop(\"SIGMA_CS\")\n",
    ")\n",
    "\n",
    "# join back to monthly panel\n",
    "panel = panel.join(sigma_m, on=[\"PERMNO\",\"date\"], how=\"left\")"
   ]
  },
  {
   "cell_type": "code",
   "execution_count": 10,
   "metadata": {},
   "outputs": [],
   "source": [
    "# =========================================================\n",
    "# 16b) NIMTAAVG with CHS geometric weights (λ = 2/13)\n",
    "# =========================================================\n",
    "\n",
    "# λ = 2/13\n",
    "\n",
    "# # make sure panel is sorted\n",
    "# panel = panel.sort([\"PERMNO\",\"date\"])\n",
    "\n",
    "# # compute lagged NIMTA values for 1..12 months back\n",
    "# for k in range(1, 13):\n",
    "#     panel = panel.with_columns(\n",
    "#         pl.col(\"NIMTA\").shift(k).over(\"PERMNO\").alias(f\"NIMTA_lag{k}\")\n",
    "#     )\n",
    "\n",
    "# # apply weights (geometric decay)\n",
    "# weights = [(1-λ)**(k-1) * λ for k in range(1, 13)]\n",
    "# weight_sum = sum(weights)  # should be ≈1.0, but normalize anyway\n",
    "# weights = [w/weight_sum for w in weights]\n",
    "\n",
    "# exprs = [pl.col(f\"NIMTA_lag{k}\") * weights[k-1] for k in range(1, 13)]\n",
    "\n",
    "# panel = panel.with_columns(\n",
    "#     sum(exprs).alias(\"NIMTAAVG\")\n",
    "# )\n",
    "\n",
    "# # drop intermediate lag columns to save memory since theyre no longer useful\n",
    "# panel = panel.drop([f\"NIMTA_lag{k}\" for k in range(1, 13)])\n",
    "\n",
    "# EQUAL WEIGHTS\n",
    "# =========================================================\n",
    "# 16b-alt) NIMTAAVG with equal weights (12-mo simple avg)\n",
    "# =========================================================\n",
    "\n",
    "# =========================================================\n",
    "# NIMTA and NIMTAAVG\n",
    "#      - NIMTA     = NIQ / MTA\n",
    "#      - NIMTAAVG  = 12-month rolling mean (per PERMNO)\n",
    "# =========================================================\n",
    "\n",
    "panel = panel.sort([\"PERMNO\",\"date\"])\n",
    "\n",
    "# NIMTA uses niq in dollars over MTA (already in dollars now)\n",
    "panel = panel.with_columns(\n",
    "    (pl.col(\"niq\") * 1_000_000 / pl.col(\"MTA\")).alias(\"NIMTA\")\n",
    ")\n",
    "\n",
    "# 12-month average of *past* NIMTA\n",
    "panel = panel.with_columns(\n",
    "    pl.col(\"NIMTA\").shift(1).rolling_mean(12).over(\"PERMNO\").alias(\"NIMTAAVG\")\n",
    ")"
   ]
  },
  {
   "cell_type": "markdown",
   "metadata": {},
   "source": [
    "## FAILURE INDICATOR"
   ]
  },
  {
   "cell_type": "code",
   "execution_count": 11,
   "metadata": {},
   "outputs": [],
   "source": [
    "# =========================================================\n",
    "# 17) Failure-in-12M indicator (Y) from CRSP delist codes\n",
    "#     - Use CHS failure codes\n",
    "#     - For each failure event, flag the prior 12 months as Y=1\n",
    "# =========================================================\n",
    "\n",
    "# 17a) select failure delist events\n",
    "fail_codes = [500] + list(range(550, 586)) + [587, 589]  # CHS-style failure set\n",
    "\n",
    "fail_events = (\n",
    "    crsp_delisting\n",
    "    .select([\"PERMNO\", \"date\", \"DLSTCD\"])\n",
    "    .with_columns(pl.col(\"DLSTCD\").cast(pl.Int64, strict=False))\n",
    "    .filter(pl.col(\"DLSTCD\").is_in(fail_codes))\n",
    "    .with_columns(pl.col(\"date\").dt.month_end().alias(\"date\"))  # align to month-end\n",
    "    .unique(subset=[\"PERMNO\",\"date\"])  # one fail per PERMNO-date\n",
    ")\n",
    "\n",
    "# 17b) expand to the 12 months BEFORE each failure month\n",
    "#      (so a month is labeled 1 if a failure occurs within the next 12 months)\n",
    "flags = []\n",
    "for k in range(1, 13):  # 1..12 months before failure\n",
    "    flags.append(\n",
    "        fail_events\n",
    "        .with_columns(pl.col(\"date\").dt.offset_by(f\"-{k}mo\").alias(\"date\"))\n",
    "        .select([\"PERMNO\",\"date\"])\n",
    "        .with_columns(pl.lit(1).alias(\"FAIL_12M\"))\n",
    "    )\n",
    "\n",
    "fail_flags = pl.concat(flags).unique(subset=[\"PERMNO\",\"date\"])\n",
    "\n",
    "# 17c) attach Y to the monthly panel\n",
    "panel = (\n",
    "    panel\n",
    "    .join(fail_flags, on=[\"PERMNO\",\"date\"], how=\"left\")\n",
    "    .with_columns(pl.col(\"FAIL_12M\").fill_null(0).cast(pl.Int8))\n",
    ")"
   ]
  },
  {
   "cell_type": "markdown",
   "metadata": {},
   "source": [
    "## Z SCORE STANDARDIZE PREDICTORS"
   ]
  },
  {
   "cell_type": "code",
   "execution_count": 12,
   "metadata": {},
   "outputs": [],
   "source": [
    "# =========================================================\n",
    "# 18) Z-score (standardize) CHS predictors\n",
    "#      - each predictor → mean 0, std 1\n",
    "# =========================================================\n",
    "\n",
    "predictors = [\"TLMTA\", \"CASHMTA\", \"MB\", \"PRICE\",\n",
    "              \"RSIZE\", \"EXRETAVG\", \"SIGMA\", \"NIMTAAVG\"]\n",
    "\n",
    "# compute global means/stds\n",
    "stats = panel.select([\n",
    "    *[pl.col(c).mean().alias(f\"{c}_mean\") for c in predictors],\n",
    "    *[pl.col(c).std().alias(f\"{c}_std\") for c in predictors],\n",
    "]).to_dicts()[0]\n",
    "\n",
    "# add standardized versions\n",
    "for c in predictors:\n",
    "    mu = stats[f\"{c}_mean\"]\n",
    "    sd = stats[f\"{c}_std\"]\n",
    "    panel = panel.with_columns(((pl.col(c) - mu) / sd).alias(f\"{c}_z\"))"
   ]
  },
  {
   "cell_type": "code",
   "execution_count": 13,
   "metadata": {},
   "outputs": [
    {
     "name": "stdout",
     "output_type": "stream",
     "text": [
      "                          Results: Logit\n",
      "==================================================================\n",
      "Model:              Logit            Method:           MLE        \n",
      "Dependent Variable: FAIL_12M         Pseudo R-squared: 0.286      \n",
      "Date:               2025-10-01 15:34 AIC:              382205.5495\n",
      "No. Observations:   2677022          BIC:              382320.7515\n",
      "Df Model:           8                Log-Likelihood:   -1.9109e+05\n",
      "Df Residuals:       2677013          LL-Null:          -2.6769e+05\n",
      "Converged:          1.0000           LLR p-value:      0.0000     \n",
      "No. Iterations:     11.0000          Scale:            1.0000     \n",
      "-------------------------------------------------------------------\n",
      "              Coef.   Std.Err.      z      P>|z|    [0.025   0.975]\n",
      "-------------------------------------------------------------------\n",
      "const        -5.1443    0.0089  -579.5815  0.0000  -5.1617  -5.1269\n",
      "TLMTA_z       0.3500    0.0050    69.7983  0.0000   0.3401   0.3598\n",
      "CASHMTA_z    -0.1001    0.0041   -24.4426  0.0000  -0.1082  -0.0921\n",
      "MB_z          0.0081    0.0189     0.4295  0.6675  -0.0289   0.0452\n",
      "PRICE_z      -0.6775    0.0044  -152.5594  0.0000  -0.6862  -0.6688\n",
      "RSIZE_z      -0.7822    0.0080   -97.9728  0.0000  -0.7979  -0.7666\n",
      "EXRETAVG_z   -0.1087    0.0038   -28.9643  0.0000  -0.1160  -0.1013\n",
      "SIGMA_z       0.0517    0.0031    16.8047  0.0000   0.0457   0.0577\n",
      "NIMTAAVG_z   -0.0236    0.0023   -10.2828  0.0000  -0.0281  -0.0191\n",
      "==================================================================\n",
      "\n"
     ]
    }
   ],
   "source": [
    "# =========================================================\n",
    "# 19) Logit + predictions, joined back by (PERMNO, date)\n",
    "# =========================================================\n",
    "import statsmodels.api as sm\n",
    "import pandas as pd\n",
    "\n",
    "z_cols = [\"TLMTA_z\",\"CASHMTA_z\",\"MB_z\",\"PRICE_z\",\"RSIZE_z\",\"EXRETAVG_z\",\"SIGMA_z\",\"NIMTAAVG_z\"]\n",
    "\n",
    "# keep keys so we can join predictions back\n",
    "df_all = panel.select([\"PERMNO\",\"date\",\"FAIL_12M\", *z_cols]).to_pandas()\n",
    "\n",
    "# training rows: need y and all predictors\n",
    "mask_train = df_all[z_cols].notna().all(axis=1) & df_all[\"FAIL_12M\"].notna()\n",
    "X_train = sm.add_constant(df_all.loc[mask_train, z_cols])\n",
    "y_train = df_all.loc[mask_train, \"FAIL_12M\"]\n",
    "\n",
    "# fit logit\n",
    "logit = sm.Logit(y_train, X_train).fit(disp=False)\n",
    "\n",
    "# prediction rows: need all predictors (label not required)\n",
    "mask_pred = df_all[z_cols].notna().all(axis=1)\n",
    "X_pred = sm.add_constant(df_all.loc[mask_pred, z_cols])\n",
    "\n",
    "pred = df_all.loc[mask_pred, [\"PERMNO\",\"date\"]].copy()\n",
    "pred[\"FAIL_PROB_12M\"] = logit.predict(X_pred)\n",
    "\n",
    "# ---- fix dtypes on keys and join back to panel ----\n",
    "pred[\"date\"] = pd.to_datetime(pred[\"date\"]).dt.date\n",
    "pred[\"PERMNO\"] = pred[\"PERMNO\"].astype(\"int64\")\n",
    "\n",
    "pred_pl = (\n",
    "    pl.from_pandas(pred)\n",
    "    .with_columns([\n",
    "        pl.col(\"date\").cast(pl.Date),\n",
    "        pl.col(\"PERMNO\").cast(pl.Int64),\n",
    "        pl.col(\"FAIL_PROB_12M\").cast(pl.Float64),\n",
    "    ])\n",
    ")\n",
    "\n",
    "panel = (\n",
    "    panel\n",
    "    .with_columns([\n",
    "        pl.col(\"date\").cast(pl.Date),\n",
    "        pl.col(\"PERMNO\").cast(pl.Int64),\n",
    "    ])\n",
    "    .join(pred_pl, on=[\"PERMNO\",\"date\"], how=\"left\")\n",
    ")\n",
    "\n",
    "print(logit.summary2())"
   ]
  },
  {
   "cell_type": "markdown",
   "metadata": {},
   "source": [
    "## Quick Sanity Checks"
   ]
  },
  {
   "cell_type": "code",
   "execution_count": 14,
   "metadata": {},
   "outputs": [
    {
     "data": {
      "text/plain": [
       "{'niq_min': -66047.822,\n",
       " 'niq_max': 127140.0,\n",
       " 'niq_mean': 32.432193712810225,\n",
       " 'atq_min': -106.969,\n",
       " 'atq_max': 4552482.0,\n",
       " 'atq_mean': 7069.471758489149}"
      ]
     },
     "execution_count": 14,
     "metadata": {},
     "output_type": "execute_result"
    }
   ],
   "source": [
    "# Peek at NIQ values directly\n",
    "compustat.select([\n",
    "    pl.col(\"niq\").min().alias(\"niq_min\"),\n",
    "    pl.col(\"niq\").max().alias(\"niq_max\"),\n",
    "    pl.col(\"niq\").mean().alias(\"niq_mean\"),\n",
    "    pl.col(\"atq\").min().alias(\"atq_min\"),\n",
    "    pl.col(\"atq\").max().alias(\"atq_max\"),\n",
    "    pl.col(\"atq\").mean().alias(\"atq_mean\")\n",
    "]).to_dicts()[0]"
   ]
  },
  {
   "cell_type": "code",
   "execution_count": 15,
   "metadata": {},
   "outputs": [
    {
     "name": "stdout",
     "output_type": "stream",
     "text": [
      "{'MTA_mean': 9006381014.271233, 'BE_mean': 1469565905.2355149, 'NIMTA_mean': -0.007132321409576263}\n"
     ]
    }
   ],
   "source": [
    "print(panel.select([\n",
    "    pl.col(\"MTA\").mean().alias(\"MTA_mean\"),\n",
    "    pl.col(\"BE\").mean().alias(\"BE_mean\"),\n",
    "    pl.col(\"NIMTA\").mean().alias(\"NIMTA_mean\"),\n",
    "]).to_dicts()[0])"
   ]
  },
  {
   "cell_type": "code",
   "execution_count": 16,
   "metadata": {},
   "outputs": [
    {
     "name": "stdout",
     "output_type": "stream",
     "text": [
      "{'min': 1.0832233329809418e-09, 'mean': 0.0205041273474779, 'median': 0.00445506084444324, 'max': 0.975313213479695}\n"
     ]
    }
   ],
   "source": [
    "print(panel.select([\n",
    "    pl.col(\"FAIL_PROB_12M\").min().alias(\"min\"),\n",
    "    pl.col(\"FAIL_PROB_12M\").mean().alias(\"mean\"),\n",
    "    pl.col(\"FAIL_PROB_12M\").median().alias(\"median\"),\n",
    "    pl.col(\"FAIL_PROB_12M\").max().alias(\"max\"),\n",
    "]).to_dicts()[0])"
   ]
  },
  {
   "cell_type": "markdown",
   "metadata": {},
   "source": [
    "## Sort and Binning"
   ]
  },
  {
   "cell_type": "code",
   "execution_count": 17,
   "metadata": {},
   "outputs": [
    {
     "name": "stdout",
     "output_type": "stream",
     "text": [
      "{'min_decile': 1, 'max_decile': 10}\n",
      "shape: (10, 2)\n",
      "┌─────────────────┬─────────┐\n",
      "│ distress_decile ┆ n       │\n",
      "│ ---             ┆ ---     │\n",
      "│ i32             ┆ u32     │\n",
      "╞═════════════════╪═════════╡\n",
      "│ 1               ┆ 267399  │\n",
      "│ 2               ┆ 267725  │\n",
      "│ 3               ┆ 267685  │\n",
      "│ 4               ┆ 267728  │\n",
      "│ 5               ┆ 267807  │\n",
      "│ 6               ┆ 267596  │\n",
      "│ 7               ┆ 267675  │\n",
      "│ 8               ┆ 267738  │\n",
      "│ 9               ┆ 267672  │\n",
      "│ 10              ┆ 1329316 │\n",
      "└─────────────────┴─────────┘\n"
     ]
    },
    {
     "name": "stderr",
     "output_type": "stream",
     "text": [
      "/tmp/ipykernel_3178266/3597948467.py:28: DeprecationWarning: `pl.count()` is deprecated. Please use `pl.len()` instead.\n",
      "(Deprecated in version 0.20.5)\n",
      "  .agg(pl.count().alias(\"n\"))\n"
     ]
    }
   ],
   "source": [
    "# =========================================================\n",
    "# =========================================================\n",
    "# 20) Monthly distress deciles (super simple)\n",
    "# =========================================================\n",
    "panel = panel.with_columns(\n",
    "    pl.min_horizontal(\n",
    "        (\n",
    "            (pl.col(\"FAIL_PROB_12M\").rank(\"ordinal\").over(\"date\")\n",
    "             / pl.col(\"FAIL_PROB_12M\").count().over(\"date\") * 10.0\n",
    "            ).ceil()\n",
    "        ).cast(pl.Int8),\n",
    "        pl.lit(10)\n",
    "    ).alias(\"distress_decile\")\n",
    ")\n",
    "\n",
    "# quick sanity check\n",
    "print(\n",
    "    panel.select([\n",
    "        pl.col(\"distress_decile\").min().alias(\"min_decile\"),\n",
    "        pl.col(\"distress_decile\").max().alias(\"max_decile\"),\n",
    "    ]).to_dicts()[0]\n",
    ")\n",
    "\n",
    "decile_counts = (\n",
    "    panel\n",
    "    .filter(pl.col(\"distress_decile\").is_not_null())\n",
    "    .group_by(\"distress_decile\")\n",
    "    .agg(pl.count().alias(\"n\"))\n",
    "    .sort(\"distress_decile\")\n",
    ")\n",
    "print(decile_counts)"
   ]
  },
  {
   "cell_type": "code",
   "execution_count": 18,
   "metadata": {},
   "outputs": [
    {
     "name": "stdout",
     "output_type": "stream",
     "text": [
      "shape: (10, 3)\n",
      "┌─────────────────┬──────────────┬─────────┐\n",
      "│ distress_decile ┆ failure_rate ┆ n       │\n",
      "│ ---             ┆ ---          ┆ ---     │\n",
      "│ i32             ┆ f64          ┆ u32     │\n",
      "╞═════════════════╪══════════════╪═════════╡\n",
      "│ 1               ┆ 0.000337     ┆ 267399  │\n",
      "│ 2               ┆ 0.00087      ┆ 267725  │\n",
      "│ 3               ┆ 0.001057     ┆ 267685  │\n",
      "│ 4               ┆ 0.00183      ┆ 267728  │\n",
      "│ 5               ┆ 0.002804     ┆ 267807  │\n",
      "│ 6               ┆ 0.004443     ┆ 267596  │\n",
      "│ 7               ┆ 0.008189     ┆ 267675  │\n",
      "│ 8               ┆ 0.015523     ┆ 267738  │\n",
      "│ 9               ┆ 0.035499     ┆ 267672  │\n",
      "│ 10              ┆ 0.038705     ┆ 1329316 │\n",
      "└─────────────────┴──────────────┴─────────┘\n"
     ]
    }
   ],
   "source": [
    "fail_rates = (\n",
    "    panel\n",
    "    .filter(pl.col(\"distress_decile\").is_not_null())\n",
    "    .group_by(\"distress_decile\")\n",
    "    .agg([\n",
    "        pl.mean(\"FAIL_12M\").alias(\"failure_rate\"),\n",
    "        pl.len().alias(\"n\")\n",
    "    ])\n",
    "    .sort(\"distress_decile\")\n",
    ")\n",
    "\n",
    "print(fail_rates)"
   ]
  },
  {
   "cell_type": "code",
   "execution_count": 19,
   "metadata": {},
   "outputs": [
    {
     "data": {
      "image/png": "[encoded data removed]",
      "text/plain": [
       "<Figure size 800x600 with 1 Axes>"
      ]
     },
     "metadata": {},
     "output_type": "display_data"
    }
   ],
   "source": [
    "# get failure rate table again (if not already saved)\n",
    "failure_by_decile = (\n",
    "    panel.group_by(\"distress_decile\")\n",
    "         .agg([\n",
    "             (pl.col(\"FAIL_12M\").mean()).alias(\"failure_rate\"),\n",
    "             pl.len().alias(\"n\")\n",
    "         ])\n",
    "         .sort(\"distress_decile\")\n",
    "         .to_pandas()\n",
    ")\n",
    "\n",
    "# plot\n",
    "plt.figure(figsize=(8,6))\n",
    "plt.plot(failure_by_decile[\"distress_decile\"],\n",
    "         failure_by_decile[\"failure_rate\"],\n",
    "         marker=\"o\", linestyle=\"-\", linewidth=2)\n",
    "\n",
    "plt.xlabel(\"Distress Decile (1 = safest, 10 = riskiest)\")\n",
    "plt.ylabel(\"Failure Rate\")\n",
    "plt.title(\"Failure Rates by Distress Decile\")\n",
    "plt.grid(True, alpha=0.3)\n",
    "plt.show()"
   ]
  },
  {
   "cell_type": "code",
   "execution_count": 20,
   "metadata": {},
   "outputs": [
    {
     "name": "stdout",
     "output_type": "stream",
     "text": [
      "AUC: 0.907\n"
     ]
    },
    {
     "data": {
      "image/png": "[encoded data removed]",
      "text/plain": [
       "<Figure size 600x600 with 1 Axes>"
      ]
     },
     "metadata": {},
     "output_type": "display_data"
    }
   ],
   "source": [
    "# =========================================================\n",
    "# 21) ROC curve + AUC (manual, no sklearn)\n",
    "# =========================================================\n",
    "import numpy as np\n",
    "import matplotlib.pyplot as plt\n",
    "\n",
    "# grab labels + scores, drop nulls\n",
    "roc_df = (\n",
    "    panel\n",
    "    .select([\"FAIL_12M\", \"FAIL_PROB_12M\"])\n",
    "    .drop_nulls()\n",
    "    .to_pandas()\n",
    ")\n",
    "\n",
    "y_true = roc_df[\"FAIL_12M\"].astype(int).values\n",
    "y_score = roc_df[\"FAIL_PROB_12M\"].values\n",
    "\n",
    "# sort by predicted score descending\n",
    "order = np.argsort(-y_score)\n",
    "y_true = y_true[order]\n",
    "y_score = y_score[order]\n",
    "\n",
    "# cumulative counts\n",
    "tp = np.cumsum(y_true)\n",
    "fp = np.cumsum(1 - y_true)\n",
    "\n",
    "tp_rate = tp / tp[-1]\n",
    "fp_rate = fp / fp[-1]\n",
    "\n",
    "# trapezoidal auc\n",
    "auc = np.trapezoid(tp_rate, fp_rate)\n",
    "print(f\"AUC: {auc:.3f}\")\n",
    "\n",
    "# plot ROC\n",
    "plt.figure(figsize=(6,6))\n",
    "plt.plot(fp_rate, tp_rate, lw=2, label=f\"ROC (AUC={auc:.3f})\")\n",
    "plt.plot([0,1],[0,1],\"--\",color=\"gray\")\n",
    "plt.xlabel(\"False Positive Rate\")\n",
    "plt.ylabel(\"True Positive Rate\")\n",
    "plt.title(\"ROC – Distress Model\")\n",
    "plt.legend()\n",
    "plt.grid(True, alpha=0.3)\n",
    "plt.show()"
   ]
  },
  {
   "cell_type": "code",
   "execution_count": null,
   "metadata": {},
   "outputs": [],
   "source": []
  }
 ],
 "metadata": {
  "kernelspec": {
   "display_name": ".venv",
   "language": "python",
   "name": "python3"
  },
  "language_info": {
   "codemirror_mode": {
    "name": "ipython",
    "version": 3
   },
   "file_extension": ".py",
   "mimetype": "text/x-python",
   "name": "python",
   "nbconvert_exporter": "python",
   "pygments_lexer": "ipython3",
   "version": "3.11.7"
  },
  "orig_nbformat": 4
 },
 "nbformat": 4,
 "nbformat_minor": 2
}
